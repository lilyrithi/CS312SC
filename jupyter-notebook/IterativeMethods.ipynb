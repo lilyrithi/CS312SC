{
 "cells": [
  {
   "cell_type": "markdown",
   "metadata": {},
   "source": [
    "# Iterative Methods to Solve System of Linear Equations\n",
    "\n",
    "## Jacobi Method"
   ]
  },
  {
   "cell_type": "code",
   "execution_count": 1,
   "metadata": {},
   "outputs": [],
   "source": [
    "import numpy as np\n",
    "from scipy.sparse import *\n",
    "from scipy.linalg import norm\n",
    "\n",
    "# Sauer's Sparse matrix set up translation to Python\n",
    "def sparseSetup(n):\n",
    "    e = np.ones(n)\n",
    "    n2 = n/2\n",
    "    a = dia_matrix(([-e, 3*e, -e], [-1, 0, 1]), shape=(n, n)).tocsr()\n",
    "    b = np.ones(n)\n",
    "    b[0] = 2; b[n-1] = 2\n",
    "    return a, b\n",
    "\n",
    "# Calculate the backward error\n",
    "def backwardError(b, ax, guessVec):\n",
    "    axa = ax.dot(guessVec)\n",
    "    tonorm = b - axa\n",
    "    abstonorm = np.absolute(tonorm)\n",
    "    backwardErr = abstonorm.max()\n",
    "    return backwardErr\n",
    "\n",
    "# Function to solve a system of linear equations by Jacobi methods\n",
    "def jacobi(a, b, tol):\n",
    "    n = len(b)\n",
    "    d = [a[i, i] for i in range(n)]\n",
    "    r = a - np.diag(d)\n",
    "    x = np.zeros((n, 1))\n",
    "    p = np.ones((n, 1))\n",
    "    bb = np.reshape(b, (n, 1))\n",
    "    dd = np.reshape(d, (n, 1))\n",
    "    ite = 0\n",
    "    diff = tol * 2\n",
    "\n",
    "    while diff > tol:\n",
    "        x = (bb - np.dot(r, x)) / dd\n",
    "        diff = norm(x - p, np.inf)\n",
    "        ite += 1\n",
    "\n",
    "    print (\"Step needed for Jacobi method:\", ite)\n",
    "    bshape = b.reshape((n, 1))\n",
    "    adense = a.todense()\n",
    "    err = backwardError(bshape, adense, x)\n",
    "    print (\"Backward Error is\", err)\n",
    "\n",
    "    return p.T"
   ]
  },
  {
   "cell_type": "markdown",
   "metadata": {},
   "source": [
    "Use the Jacobi Method to solve the sparse system within six correct decimal places (forward error in the infinity norm) for $n = 100$ and $n = 100000$. The correct solution is $[1,...,1]$. Report the number of steps needed and the backward error.\n",
    "\n",
    "Given that $100000x100000$ is too computationally expensive to do. I will leave them out."
   ]
  },
  {
   "cell_type": "code",
   "execution_count": 2,
   "metadata": {},
   "outputs": [
    {
     "name": "stdout",
     "output_type": "stream",
     "text": [
      "Step needed for Jacobi method: 38\n",
      "Backward Error is 2.0348810692016883e-07\n",
      "[[1. 1. 1. 1. 1. 1. 1. 1. 1. 1. 1. 1. 1. 1. 1. 1. 1. 1. 1. 1. 1. 1. 1. 1.\n",
      "  1. 1. 1. 1. 1. 1. 1. 1. 1. 1. 1. 1. 1. 1. 1. 1. 1. 1. 1. 1. 1. 1. 1. 1.\n",
      "  1. 1. 1. 1. 1. 1. 1. 1. 1. 1. 1. 1. 1. 1. 1. 1. 1. 1. 1. 1. 1. 1. 1. 1.\n",
      "  1. 1. 1. 1. 1. 1. 1. 1. 1. 1. 1. 1. 1. 1. 1. 1. 1. 1. 1. 1. 1. 1. 1. 1.\n",
      "  1. 1. 1. 1.]]\n",
      "Step needed for Jacobi method: 38\n",
      "Backward Error is 2.0348810692016883e-07\n",
      "[[1. 1. 1. ... 1. 1. 1.]]\n"
     ]
    }
   ],
   "source": [
    "# For n = 100\n",
    "tolerance = 0.00000025\n",
    "a100,  b100 = sparseSetup(100)\n",
    "print(jacobi(a100, b100, tolerance))\n",
    "\n",
    "# For n = 10000\n",
    "a10000, b10000 = sparseSetup(10000)\n",
    "print (jacobi(a10000, b10000, tolerance))"
   ]
  },
  {
   "cell_type": "markdown",
   "metadata": {},
   "source": [
    "## Gauss-Seidel Method and SOR\n",
    "\n",
    "Rewrite the Program 2.2. to carry Gauss-Seidel iteration. Solve the problem in Example 2.24 (page 110) to check your work."
   ]
  },
  {
   "cell_type": "code",
   "execution_count": 3,
   "metadata": {},
   "outputs": [],
   "source": [
    "# Sparse matrix set up for the new problem\n",
    "def sparsesetup(n):\n",
    "    n2 = n / 2\n",
    "    e = np.ones(n)\n",
    "    a = dia_matrix(([-e, 3*e, -e], [-1, 0, 1]), shape=(n, n)).tocsr()\n",
    "    c = coo_matrix((e / 2, (range(n), range(n - 1, -1, -1))), shape=(n, n)).tocsr()\n",
    "    a = a+c\n",
    "    a[n2, n2 - 1] = -1;\n",
    "    a[n2 - 1, n2] = -1;\n",
    "    b = np.ones(n)\n",
    "    b[0] = 2.5\n",
    "    b[5] = 2.5\n",
    "    b[1] = 1.5\n",
    "    b[4] = 1.5\n",
    "    return a, b\n",
    "\n",
    "\n",
    "def gaussseidel(a, b, tol):\n",
    "    n = len(b)\n",
    "    d = [a[i, i] for i in range(n)] \n",
    "    r = a - np.diag(d) \n",
    "    x = np.zeros((n, 1))\n",
    "    p = np.ones((n, 1))\n",
    "    bb = np.reshape(b, (n, 1))\n",
    "    dd = np.reshape(d, (n, 1))\n",
    "    ite = 0\n",
    "    diff = 1\n",
    "    adense = a.todense()\n",
    "    lowertri = tril(r).toarray()\n",
    "    uppertri = triu(r).toarray()\n",
    "\n",
    "    while diff > tol:\n",
    "        cont = np.dot(uppertri, x)\n",
    "\n",
    "        for j in range(0, n):\n",
    "            x[j] = (bb[j] - cont[j] - np.dot(lowertri[j, :], x)) / dd[j]\n",
    "\n",
    "        diff = norm(x - p,  np.inf)\n",
    "        ite += 1\n",
    "\n",
    "    print (\"Step needed for Gauss-Seidel method:\", ite)\n",
    "    bshape = b.reshape((n, 1))\n",
    "    err = backwardError(bshape, adense, x)\n",
    "    print (\"Backward Error is\", err)\n",
    "    return x"
   ]
  },
  {
   "cell_type": "code",
   "execution_count": 5,
   "metadata": {},
   "outputs": [
    {
     "name": "stdout",
     "output_type": "stream",
     "text": [
      "Step needed for Gauss-Seidel method: 17\n",
      "Backward Error is 1.7237836891226266e-07\n",
      "[[1.0000001 ]\n",
      " [1.00000011]\n",
      " [1.00000006]\n",
      " [1.00000001]\n",
      " [0.99999997]\n",
      " [0.99999997]]\n"
     ]
    }
   ],
   "source": [
    "# Using the same tolerance from the previous problem.\n",
    "a, b = sparsesetup(6)\n",
    "print (gaussseidel(a, b, tolerance))"
   ]
  },
  {
   "cell_type": "markdown",
   "metadata": {},
   "source": [
    "The solution for this problem is supposed to be $x = [1, 1, 1, 1, 1, 1]$ which is close enough."
   ]
  }
 ],
 "metadata": {
  "kernelspec": {
   "display_name": "Python 3",
   "language": "python",
   "name": "python3"
  },
  "language_info": {
   "codemirror_mode": {
    "name": "ipython",
    "version": 3
   },
   "file_extension": ".py",
   "mimetype": "text/x-python",
   "name": "python",
   "nbconvert_exporter": "python",
   "pygments_lexer": "ipython3",
   "version": "3.6.5"
  }
 },
 "nbformat": 4,
 "nbformat_minor": 2
}

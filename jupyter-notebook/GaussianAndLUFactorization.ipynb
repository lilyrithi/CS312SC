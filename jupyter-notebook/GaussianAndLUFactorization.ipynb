{
 "cells": [
  {
   "cell_type": "markdown",
   "metadata": {},
   "source": [
    "# System of Equations"
   ]
  },
  {
   "cell_type": "markdown",
   "metadata": {},
   "source": [
    "## LU Factorization\n",
    "\n",
    "Python implementation of LU Factorization"
   ]
  },
  {
   "cell_type": "code",
   "execution_count": 1,
   "metadata": {},
   "outputs": [],
   "source": [
    "import numpy as np\n",
    "from scipy.linalg import norm\n",
    "\n",
    "eps = np.finfo(float).eps\n",
    "\n",
    "# Find LU Factorization of a matrix\n",
    "def LUfact(ax):\n",
    "    matrix = ax.copy()\n",
    "    n = len(matrix)\n",
    "    lower = np.identity(n)\n",
    "\n",
    "    for j in range(0, n-1):\n",
    "        if abs(lower[j, j]) < eps:\n",
    "            print (\"Error\")\n",
    "            quit()\n",
    "        else:\n",
    "            for i in range(j+1, n):\n",
    "                multiplication = matrix[i, j] / matrix[j, j]\n",
    "                lower[i, j] = multiplication\n",
    "                for k in range(j, n):\n",
    "                    matrix[i, k] = matrix[i, k] - multiplication * matrix[j, k]\n",
    "\n",
    "    return lower, matrix\n",
    "\n",
    "# Use the LU factorization to solve system of linear equations\n",
    "def solveLU(lower, upper, ans):\n",
    "    copylower = lower.copy()\n",
    "    copyupper = upper.copy()\n",
    "    copyans = ans.copy()\n",
    "    n = len(lower)\n",
    "    x = np.zeros((n, 1))\n",
    "    y = np.zeros((n, 1))\n",
    "\n",
    "    for i in range(0, n):\n",
    "        for j in range(n-1, -1, -1):\n",
    "            copyans[i] = copyans[i] - copylower[i, j] * y[j]\n",
    "        y[i] = copyans[i] / copylower[i, i]\n",
    "\n",
    "    for i in range(n-1, -1, -1):\n",
    "        for j in range(i+1, n):\n",
    "            y[i] = y[i] - copyupper[i, j] * x[j]\n",
    "        x[i] = y[i] / copyupper[i, i]\n",
    "\n",
    "    return x"
   ]
  },
  {
   "cell_type": "markdown",
   "metadata": {},
   "source": [
    "Find the LU factorization of the given matrices. Check by matrix multiplication  \n",
    "\n",
    "a) $\\begin{bmatrix} 3 & 1 & 2 \\\\ 6 & 3 & 4 \\\\ 3 & 1 & 5 \\end{bmatrix}$"
   ]
  },
  {
   "cell_type": "code",
   "execution_count": 2,
   "metadata": {},
   "outputs": [
    {
     "name": "stdout",
     "output_type": "stream",
     "text": [
      "L:\n",
      "[[1. 0. 0.]\n",
      " [2. 1. 0.]\n",
      " [1. 0. 1.]]\n",
      "U:\n",
      "[[3. 1. 2.]\n",
      " [0. 1. 0.]\n",
      " [0. 0. 3.]]\n",
      "Check the correction by matrix multiplication:\n",
      "[[3. 1. 2.]\n",
      " [6. 3. 4.]\n",
      " [3. 1. 5.]]\n"
     ]
    }
   ],
   "source": [
    "A = np.array([[3.0, 1.0, 2.0], [6.0, 3.0, 4.0], [3.0, 1.0, 5.0]])\n",
    "lowerA, upperA = LUfact(A)\n",
    "print(\"L:\")\n",
    "print(lowerA)\n",
    "print(\"U:\")\n",
    "print(upperA)\n",
    "print(\"Check the correction by matrix multiplication:\")\n",
    "print(np.matmul(lowerA, upperA))"
   ]
  },
  {
   "cell_type": "markdown",
   "metadata": {},
   "source": [
    "b) $\\begin{bmatrix} 4 & 2 & 0 \\\\ 4 & 4 & 2 \\\\ 2 & 2 & 3 \\end{bmatrix}$"
   ]
  },
  {
   "cell_type": "code",
   "execution_count": 3,
   "metadata": {},
   "outputs": [
    {
     "name": "stdout",
     "output_type": "stream",
     "text": [
      "L:\n",
      "[[1.  0.  0. ]\n",
      " [1.  1.  0. ]\n",
      " [0.5 0.5 1. ]]\n",
      "U:\n",
      "[[4. 2. 0.]\n",
      " [0. 2. 2.]\n",
      " [0. 0. 2.]]\n",
      "Check the correction by matrix multiplication:\n",
      "[[4. 2. 0.]\n",
      " [4. 4. 2.]\n",
      " [2. 2. 3.]]\n"
     ]
    }
   ],
   "source": [
    "B = np.array([[4.0, 2.0, 0.0], [4.0, 4.0, 2.0], [2, 2, 3]])\n",
    "lowerB, upperB = LUfact(B)\n",
    "print(\"L:\")\n",
    "print(lowerB)\n",
    "print(\"U:\")\n",
    "print(upperB)\n",
    "print(\"Check the correction by matrix multiplication:\")\n",
    "print(np.matmul(lowerB, upperB))"
   ]
  },
  {
   "cell_type": "markdown",
   "metadata": {},
   "source": [
    "c) $\\begin{bmatrix} 1 & -1 & 1 & 2 \\\\ 0 & 2 & 1 & 0 \\\\ 1 & 3 & 4 & 4 \\\\ 0 & 2 & 1 & -1 \\end{bmatrix}$"
   ]
  },
  {
   "cell_type": "code",
   "execution_count": 4,
   "metadata": {},
   "outputs": [
    {
     "name": "stdout",
     "output_type": "stream",
     "text": [
      "L:\n",
      "[[1. 0. 0. 0.]\n",
      " [0. 1. 0. 0.]\n",
      " [1. 2. 1. 0.]\n",
      " [0. 1. 0. 1.]]\n",
      "U:\n",
      "[[ 1. -1.  1.  2.]\n",
      " [ 0.  2.  1.  0.]\n",
      " [ 0.  0.  1.  2.]\n",
      " [ 0.  0.  0. -1.]]\n",
      "Check the correction by matrix multiplication:\n",
      "[[ 1. -1.  1.  2.]\n",
      " [ 0.  2.  1.  0.]\n",
      " [ 1.  3.  4.  4.]\n",
      " [ 0.  2.  1. -1.]]\n"
     ]
    }
   ],
   "source": [
    "C = np.array([[1.0, -1.0, 1.0, 2.0], [0.0, 2.0, 1.0, 0.0], [1.0, 3.0, 4.0, 4.0], [0.0, 2.0, 1.0, -1.0]])\n",
    "lowerC, upperC = LUfact(C)\n",
    "print(\"L:\")\n",
    "print(lowerC)\n",
    "print(\"U:\")\n",
    "print(upperC)\n",
    "print(\"Check the correction by matrix multiplication:\")\n",
    "print(np.matmul(lowerC, upperC))"
   ]
  },
  {
   "cell_type": "markdown",
   "metadata": {},
   "source": [
    "Use the previous LU factorization to solve the system of linear equations\n",
    "\n",
    "$\\begin{bmatrix} 0 \\\\ 1 \\\\ 3 \\end{bmatrix}$"
   ]
  },
  {
   "cell_type": "code",
   "execution_count": 5,
   "metadata": {},
   "outputs": [
    {
     "name": "stdout",
     "output_type": "stream",
     "text": [
      "[[-1.]\n",
      " [ 1.]\n",
      " [ 1.]]\n"
     ]
    }
   ],
   "source": [
    "ansA = np.array([0.0, 1.0, 3.0])\n",
    "print(solveLU(lowerA, upperA, ansA))"
   ]
  },
  {
   "cell_type": "markdown",
   "metadata": {},
   "source": [
    "# Naive Gaussian\n",
    "\n",
    "Let $A$ be the $n x n$ matrix with entries $A_{i,j} = |i-j|+1$. Define $x = [1,...,1]^T$ and $b = Ax$. For $n=100,200,300,400,$ and $500$, use Naive Gaussian Elimination to compute $x_c$, the double precision computed solution. Calculate the infinity norm of the forward error for each solution. Find the five error magnification factors of the problems $Ax = b$, and compare with the corresponding condition numbers."
   ]
  },
  {
   "cell_type": "code",
   "execution_count": 6,
   "metadata": {},
   "outputs": [],
   "source": [
    "# Naive Gaussian Elimination implementation in Python\n",
    "def naiveGaussian(ax, ans):\n",
    "    n = len(ax)\n",
    "    x = np.zeros((n, 1))\n",
    "    matrixCopy = ax.copy()\n",
    "    ansCopy = ans.copy()\n",
    "\n",
    "    for j in range(0, n-1):\n",
    "        if abs(matrixCopy[j, j]) < eps:\n",
    "            print (\"Error\")\n",
    "            quit()\n",
    "        else:\n",
    "            for i in range(j+1, n):\n",
    "                mult = matrixCopy[i, j] / matrixCopy[j, j]\n",
    "                for k in range(j + 1, n):\n",
    "                    matrixCopy[i, k] = matrixCopy[i, k] - mult * matrixCopy[j, k]\n",
    "                ansCopy[i] = ansCopy[i] - mult * ansCopy[j]\n",
    "\n",
    "    for i in range(n-1, -1, -1):\n",
    "        for j in range(i+1, n):\n",
    "            ansCopy[i] = ansCopy[i] - matrixCopy[i, j] * x[j]\n",
    "        x[i] = ansCopy[i] / matrixCopy[i, i]\n",
    "\n",
    "    return x\n",
    "\n",
    "# Auxuliary function to fill a square matrix of size n\n",
    "def matrixFill(n):\n",
    "    empmat = np.empty((n, n))\n",
    "    for i in range(n):\n",
    "        for j in range(n):\n",
    "            empmat[i, j] = abs(i - j) + 1\n",
    "\n",
    "    matone = np.ones(n)\n",
    "\n",
    "    return empmat, matone\n",
    "\n",
    "# Auxuliary functions to calculate backward error, forward error, relative errors\n",
    "def backwardError(b, ax, guessVec):\n",
    "    axa = ax.dot(guessVec)\n",
    "    tonorm = b - axa\n",
    "    abstonorm = np.absolute(tonorm)\n",
    "    backwardErr = abstonorm.max()\n",
    "    return backwardErr\n",
    "\n",
    "def forwardError(x, guess):\n",
    "    b = np.subtract(x, guess)\n",
    "    absb = np.absolute(b)\n",
    "    forErr = absb.max()\n",
    "    return forErr\n",
    "\n",
    "\n",
    "def relativeBack(r, b):\n",
    "    normr = np.absolute(r).max()\n",
    "    normb = np.absolute(b).max()\n",
    "    relativeback = normr / normb\n",
    "    return relativeback\n",
    "\n",
    "\n",
    "def relativeFor(x, xa):\n",
    "    b = np.subtract(x, xa)\n",
    "    absb = np.absolute(b)\n",
    "    absx = np.absolute(x)\n",
    "    relativeforr = absb.max() / absx.max()\n",
    "    return relativeforr"
   ]
  },
  {
   "cell_type": "markdown",
   "metadata": {},
   "source": [
    "1) N = 100"
   ]
  },
  {
   "cell_type": "code",
   "execution_count": 7,
   "metadata": {},
   "outputs": [
    {
     "name": "stdout",
     "output_type": "stream",
     "text": [
      "Forward Error 5.2911230952190635e-11\n",
      "Backward Error 2.1373125491663814e-10\n",
      "Relative Forward 5.2911230952190635e-11\n",
      "Relative Backward 4.232302077557191e-14\n",
      "Error Magnification Factor 1250.176144863697\n",
      "Condition number 10100.000000007769\n"
     ]
    }
   ],
   "source": [
    "# Create a matrix A and the [1, 1, ..., 1]^T matrix\n",
    "matrix100, OneVector100 = matrixFill(100)\n",
    "# Get the dot product of both matrix above and reshape it to one column\n",
    "b100 = np.dot(matrix100, OneVector100).reshape((100, 1))\n",
    "# Use naiveGaussian to solve for the Ax = b.\n",
    "guess100 = naiveGaussian(matrix100, b100)\n",
    "# Calculate the residual of matrix.\n",
    "residual100 = b100 - (matrix100.dot(guess100).reshape(100, 1))\n",
    "# Calculate infinite norm of the matrix A\n",
    "mag100 = norm(matrix100, np.inf)\n",
    "# Get the inverse of matrix A and calculate its infinite norm\n",
    "inverse100 = np.linalg.inv(matrix100)\n",
    "maginverse100 = norm(inverse100, np.inf)\n",
    "# Calculate the condition number of 100 x 100 matrix.\n",
    "condition100 = mag100 * maginverse100\n",
    "\n",
    "print(\"Forward Error\", forwardError(OneVector100, guess100))\n",
    "print(\"Backward Error\", backwardError(b100, matrix100, guess100))\n",
    "print(\"Relative Forward\", relativeFor(OneVector100, guess100))\n",
    "print(\"Relative Backward\", relativeBack(residual100, b100))\n",
    "print(\"Error Magnification Factor\", relativeFor(OneVector100, guess100) / relativeBack(residual100, b100))\n",
    "print(\"Condition number\", condition100)"
   ]
  },
  {
   "cell_type": "markdown",
   "metadata": {},
   "source": [
    "2) N = 200"
   ]
  },
  {
   "cell_type": "code",
   "execution_count": 8,
   "metadata": {},
   "outputs": [
    {
     "name": "stdout",
     "output_type": "stream",
     "text": [
      "Forward Error 5.781792822290299e-10\n",
      "Backward Error 1.8408172763884068e-09\n",
      "Relative Forward 5.781792822290299e-10\n",
      "Relative Backward 9.158294907405009e-14\n",
      "Error Magnification Factor 6313.176066884881\n",
      "Condition number 40200.000000148306\n"
     ]
    }
   ],
   "source": [
    "# Create a matrix A and the [1, 1, ..., 1]^T matrix\n",
    "matrix200, OneVector200 = matrixFill(200)\n",
    "# Get the dot product of both matrix above and reshape it to one column\n",
    "b200 = np.dot(matrix200, OneVector200).reshape((200, 1))\n",
    "# Use naiveGaussian to solve for the Ax = b.\n",
    "guess200 = naiveGaussian(matrix200, b200)\n",
    "# Calculate the residual of matrix.\n",
    "residual200 = b200 - (matrix200.dot(guess200).reshape(200, 1))\n",
    "# Calculate infinite norm of the matrix A\n",
    "mag200 = norm(matrix200, np.inf)\n",
    "# Get the inverse of matrix A and calculate its infinite norm\n",
    "inverse200 = np.linalg.inv(matrix200)\n",
    "maginverse200 = norm(inverse200, np.inf)\n",
    "# Calculate the condition number of 200 x 200 matrix.\n",
    "condition200 = mag200 * maginverse200\n",
    "\n",
    "print(\"Forward Error\", forwardError(OneVector200, guess200))\n",
    "print(\"Backward Error\", backwardError(b200, matrix200, guess200))\n",
    "print(\"Relative Forward\", relativeFor(OneVector200, guess200))\n",
    "print(\"Relative Backward\", relativeBack(residual200, b200))\n",
    "print(\"Error Magnification Factor\", relativeFor(OneVector200, guess200) / relativeBack(residual200, b200))\n",
    "print(\"Condition number\", condition200)"
   ]
  },
  {
   "cell_type": "markdown",
   "metadata": {},
   "source": [
    "3) N = 300"
   ]
  },
  {
   "cell_type": "code",
   "execution_count": 9,
   "metadata": {},
   "outputs": [
    {
     "name": "stdout",
     "output_type": "stream",
     "text": [
      "Forward Error 3.030261375158716e-09\n",
      "Backward Error 1.5767000149935484e-08\n",
      "Relative Forward 3.030261375158716e-09\n",
      "Relative Backward 3.492137353252599e-13\n",
      "Error Magnification Factor 8677.38312851959\n",
      "Condition number 90300.00000073461\n"
     ]
    }
   ],
   "source": [
    "# Create a matrix A and the [1, 1, ..., 1]^T matrix\n",
    "matrix300, OneVector300 = matrixFill(300)\n",
    "# Get the dot product of both matrix above and reshape it to one column\n",
    "b300 = np.dot(matrix300, OneVector300).reshape((300, 1))\n",
    "# Use naiveGaussian to solve for the Ax = b.\n",
    "guess300 = naiveGaussian(matrix300, b300)\n",
    "# Calculate the residual of matrix.\n",
    "residual300 = b300 - (matrix300.dot(guess300).reshape(300, 1))\n",
    "# Calculate infinite norm of the matrix A\n",
    "mag300 = norm(matrix300, np.inf)\n",
    "# Get the inverse of matrix A and calculate its infinite norm\n",
    "inverse300 = np.linalg.inv(matrix300)\n",
    "maginverse300 = norm(inverse300, np.inf)\n",
    "# Calculate the condition number of 200 x 200 matrix.\n",
    "condition300 = mag300 * maginverse300\n",
    "\n",
    "print(\"Forward Error\", forwardError(OneVector300, guess300))\n",
    "print(\"Backward Error\", backwardError(b300, matrix300, guess300))\n",
    "print(\"Relative Forward\", relativeFor(OneVector300, guess300))\n",
    "print(\"Relative Backward\", relativeBack(residual300, b300))\n",
    "print(\"Error Magnification Factor\", relativeFor(OneVector300, guess300) / relativeBack(residual300, b300))\n",
    "print(\"Condition number\", condition300)"
   ]
  },
  {
   "cell_type": "markdown",
   "metadata": {},
   "source": [
    "4) N=400"
   ]
  },
  {
   "cell_type": "code",
   "execution_count": 10,
   "metadata": {},
   "outputs": [
    {
     "name": "stdout",
     "output_type": "stream",
     "text": [
      "Forward Error 4.480377846505235e-09\n",
      "Backward Error 5.1280949264764786e-08\n",
      "Relative Forward 4.480377846505235e-09\n",
      "Relative Backward 6.394133324783639e-13\n",
      "Error Magnification Factor 7007.013490224399\n",
      "Condition number 160400.00000270313\n"
     ]
    }
   ],
   "source": [
    "# Create a matrix A and the [1, 1, ..., 1]^T matrix\n",
    "matrix400, OneVector400 = matrixFill(400)\n",
    "# Get the dot product of both matrix above and reshape it to one column\n",
    "b400 = np.dot(matrix400, OneVector400).reshape((400, 1))\n",
    "# Use naiveGaussian to solve for the Ax = b.\n",
    "guess400 = naiveGaussian(matrix400, b400)\n",
    "# Calculate the residual of matrix.\n",
    "residual400 = b400 - (matrix400.dot(guess400).reshape(400, 1))\n",
    "# Calculate infinite norm of the matrix A\n",
    "mag400 = norm(matrix400, np.inf)\n",
    "# Get the inverse of matrix A and calculate its infinite norm\n",
    "inverse400 = np.linalg.inv(matrix400)\n",
    "maginverse400 = norm(inverse400, np.inf)\n",
    "# Calculate the condition number of 200 x 200 matrix.\n",
    "condition400 = mag400 * maginverse400\n",
    "\n",
    "print(\"Forward Error\", forwardError(OneVector400, guess400))\n",
    "print(\"Backward Error\", backwardError(b400, matrix400, guess400))\n",
    "print(\"Relative Forward\", relativeFor(OneVector400, guess400))\n",
    "print(\"Relative Backward\", relativeBack(residual400, b400))\n",
    "print(\"Error Magnification Factor\", relativeFor(OneVector400, guess400) / relativeBack(residual400, b400))\n",
    "print(\"Condition number\", condition400)"
   ]
  },
  {
   "cell_type": "markdown",
   "metadata": {},
   "source": [
    "5) N = 500"
   ]
  },
  {
   "cell_type": "code",
   "execution_count": 11,
   "metadata": {},
   "outputs": [
    {
     "name": "stdout",
     "output_type": "stream",
     "text": [
      "Forward Error 9.632996178510211e-09\n",
      "Backward Error 2.5116605684161186e-08\n",
      "Relative Forward 9.632996178510211e-09\n",
      "Relative Backward 2.0053178190947055e-13\n",
      "Error Magnification Factor 48037.25417878647\n",
      "Condition number 250500.00000672974\n"
     ]
    }
   ],
   "source": [
    "# Create a matrix A and the [1, 1, ..., 1]^T matrix\n",
    "matrix500, OneVector500 = matrixFill(500)\n",
    "# Get the dot product of both matrix above and reshape it to one column\n",
    "b500 = np.dot(matrix500, OneVector500).reshape((500, 1))\n",
    "# Use naiveGaussian to solve for the Ax = b.\n",
    "guess500 = naiveGaussian(matrix500, b500)\n",
    "# Calculate the residual of matrix.\n",
    "residual500 = b500 - (matrix500.dot(guess500).reshape(500, 1))\n",
    "# Calculate infinite norm of the matrix A\n",
    "mag500 = norm(matrix500, np.inf)\n",
    "# Get the inverse of matrix A and calculate its infinite norm\n",
    "inverse500 = np.linalg.inv(matrix500)\n",
    "maginverse500 = norm(inverse500, np.inf)\n",
    "# Calculate the condition number of 200 x 200 matrix.\n",
    "condition500 = mag500 * maginverse500\n",
    "\n",
    "print(\"Forward Error\", forwardError(OneVector500, guess500))\n",
    "print(\"Backward Error\", backwardError(b500, matrix500, guess500))\n",
    "print(\"Relative Forward\", relativeFor(OneVector500, guess500))\n",
    "print(\"Relative Backward\", relativeBack(residual500, b500))\n",
    "print(\"Error Magnification Factor\", relativeFor(OneVector500, guess500) / relativeBack(residual500, b500))\n",
    "print(\"Condition number\", condition500)"
   ]
  }
 ],
 "metadata": {
  "kernelspec": {
   "display_name": "Python 3",
   "language": "python",
   "name": "python3"
  },
  "language_info": {
   "codemirror_mode": {
    "name": "ipython",
    "version": 3
   },
   "file_extension": ".py",
   "mimetype": "text/x-python",
   "name": "python",
   "nbconvert_exporter": "python",
   "pygments_lexer": "ipython3",
   "version": "3.6.5"
  }
 },
 "nbformat": 4,
 "nbformat_minor": 2
}
